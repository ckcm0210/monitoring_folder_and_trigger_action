{
 "cells": [
  {
   "cell_type": "code",
   "execution_count": 5,
   "id": "60b36ef3-b6ad-4b92-9ac3-49fa0bf56a72",
   "metadata": {
    "scrolled": true
   },
   "outputs": [
    {
     "ename": "SyntaxError",
     "evalue": "invalid character '├' (U+251C) (4135998425.py, line 5)",
     "output_type": "error",
     "traceback": [
      "\u001b[1;36m  Cell \u001b[1;32mIn[5], line 5\u001b[1;36m\u001b[0m\n\u001b[1;33m    ├── run_me_to_start_monitoring.ipynb\u001b[0m\n\u001b[1;37m    ^\u001b[0m\n\u001b[1;31mSyntaxError\u001b[0m\u001b[1;31m:\u001b[0m invalid character '├' (U+251C)\n"
     ]
    }
   ],
   "source": [
    "# copy this two code into a .ipynb (example: run_me_to_start_monitoring.ipynb ) \n",
    "# and copy following codes into .ipynb and saved into the location shown in following tree diagram\n",
    "\n",
    "#from main_workflow import main_workflow_entry\n",
    "#main_workflow_entry()\n",
    "\n",
    "#your_project_root/\n",
    "#├── run_me_to_start_monitoring.ipynb <-----\n",
    "#├── main_workflow.py\n",
    "#├── monitoring.py\n",
    "#├── monitoring_config.yaml\n",
    "#├── updating.py\n",
    "#├── updating_config.yaml\n",
    "#└── utility/\n",
    "#     └── send_outlook_email.py\n",
    "\n",
    "from main_workflow import main_workflow_entry\n",
    "main_workflow_entry()"
   ]
  },
  {
   "cell_type": "code",
   "execution_count": null,
   "id": "63328c00-4b3a-42a2-ae6a-065650a18ffe",
   "metadata": {},
   "outputs": [],
   "source": []
  }
 ],
 "metadata": {
  "kernelspec": {
   "display_name": "Python [conda env:base] *",
   "language": "python",
   "name": "conda-base-py"
  },
  "language_info": {
   "codemirror_mode": {
    "name": "ipython",
    "version": 3
   },
   "file_extension": ".py",
   "mimetype": "text/x-python",
   "name": "python",
   "nbconvert_exporter": "python",
   "pygments_lexer": "ipython3",
   "version": "3.12.7"
  }
 },
 "nbformat": 4,
 "nbformat_minor": 5
}
