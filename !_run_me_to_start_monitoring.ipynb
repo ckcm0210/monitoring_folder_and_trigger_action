{
 "cells": [
  {
   "cell_type": "code",
   "execution_count": 7,
   "id": "60b36ef3-b6ad-4b92-9ac3-49fa0bf56a72",
   "metadata": {
    "scrolled": true
   },
   "outputs": [
    {
     "name": "stdout",
     "output_type": "stream",
     "text": [
      "--- Starting the overall file monitoring and update automation workflow ---\n",
      "This workflow initiates continuous file monitoring. \n",
      "If specific file changes are detected by 'monitoring.py', \n",
      "it will automatically trigger the 'updating.py' script. \n",
      "Upon completion of the update, a notification email will be sent via 'send_outlook_email.py'.\n",
      "Press Ctrl+C to stop the monitoring process at any time.\n",
      "\n",
      "[INFO] Initializing file monitoring system...\n",
      "\n",
      "🚀 Monitoring system started at 2025-06-21 19:57:54\n",
      "📁 Total folders monitored: 2\n",
      "\n",
      "\n",
      "-------------------------------------------------------\n",
      "🔄 Checking folders... (Iteration 1)\n",
      "\n",
      "📂 Monitoring: C:\\Users\\user\\Desktop\\pytest\\Automate K chain\\Test Case\\new\n",
      "   - Group A Newest Time: 2025-06-21 19:48:32\n",
      "   - Group B Oldest Time: 2025-06-21 19:49:02\n",
      "⏩ Group A is earlier than Group B (in year/month/day/hour/minute), skipping this folder\n",
      "\n",
      "📂 Monitoring: C:\\Users\\user\\Desktop\\pytest\\Automate K chain\\Test Case\\interim\n",
      "   - Group A Newest Time: 2025-06-21 19:32:08\n",
      "   - Group B Oldest Time: 2025-06-21 19:44:31\n",
      "⏩ Group A is earlier than Group B (in year/month/day/hour/minute), skipping this folder\n",
      "\n",
      "\n",
      "⏳ Waiting 2 seconds before the next check...\n",
      "\n",
      "⚠️ [WARNING] 2025-06-21 19:57:56: Monitoring stopped manually at 2025-06-21 19:57:56\n",
      "\n",
      "[INFO] File monitoring process has concluded successfully (possibly due to an update trigger or internal condition).\n",
      "\n",
      "--- Overall automation workflow finished. ---\n"
     ]
    }
   ],
   "source": [
    "\"\"\"\n",
    "# copy this two code into a .ipynb (example: !_run_me_to_start_monitoring.ipynb ) \n",
    "# and saved into the location shown in following tree diagram\n",
    "\n",
    "#from main_workflow import main_workflow_entry\n",
    "#main_workflow_entry()\n",
    "\n",
    "#your_project_root/\n",
    "#├── run_me_to_start_monitoring.ipynb <-----\n",
    "#├── main_workflow.py\n",
    "#├── monitoring.py\n",
    "#├── monitoring_config.yaml\n",
    "#├── updating.py\n",
    "#├── updating_config.yaml\n",
    "#└── utility/\n",
    "#     └── send_outlook_email.py\n",
    "\"\"\"\n",
    "\n",
    "from main_workflow import main_workflow_entry\n",
    "main_workflow_entry()"
   ]
  },
  {
   "cell_type": "code",
   "execution_count": null,
   "id": "63328c00-4b3a-42a2-ae6a-065650a18ffe",
   "metadata": {},
   "outputs": [],
   "source": []
  }
 ],
 "metadata": {
  "kernelspec": {
   "display_name": "Python [conda env:base] *",
   "language": "python",
   "name": "conda-base-py"
  },
  "language_info": {
   "codemirror_mode": {
    "name": "ipython",
    "version": 3
   },
   "file_extension": ".py",
   "mimetype": "text/x-python",
   "name": "python",
   "nbconvert_exporter": "python",
   "pygments_lexer": "ipython3",
   "version": "3.12.7"
  }
 },
 "nbformat": 4,
 "nbformat_minor": 5
}
